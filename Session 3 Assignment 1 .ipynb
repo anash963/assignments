{
 "cells": [
  {
   "cell_type": "markdown",
   "metadata": {},
   "source": [
    "# Task 1: "
   ]
  },
  {
   "cell_type": "markdown",
   "metadata": {},
   "source": [
    "#   1. Write a function to compute 5/0 and use try/except to catch the exceptions. "
   ]
  },
  {
   "cell_type": "code",
   "execution_count": 4,
   "metadata": {},
   "outputs": [
    {
     "name": "stdout",
     "output_type": "stream",
     "text": [
      "error found: division by zero\n",
      "\n",
      "result of 5/0 = not defined\n"
     ]
    }
   ],
   "source": [
    "def compute(numerator, denominator):\n",
    "    try:\n",
    "        result = numerator/denominator\n",
    "        \n",
    "    except ZeroDivisionError as error:\n",
    "        print(f\"error found: {error}\")\n",
    "        result=\"not defined\"\n",
    "        \n",
    "    return result\n",
    "\n",
    "numerator = 5\n",
    "denominator = 0\n",
    "ans = compute(numerator, denominator)\n",
    "print(f\"\\nresult of {numerator}/{denominator} = {ans}\")"
   ]
  },
  {
   "cell_type": "markdown",
   "metadata": {},
   "source": [
    "# 2. Implement a Python program to generate all sentences where subject is in [\"Americans\", \"Indians\"] and verb is in [\"Play\", \"watch\"] and the object is in [\"Baseball\",\"cricket\"]. \n",
    " \n",
    "Hint: Subject,Verb and Object should be declared in the program as shown below. \n",
    " \n",
    "subjects=[\"Americans \",\"Indians\"] verbs=[\"play\",\"watch\"] objects=[\"Baseball\",\"Cricket\"] \n",
    " \n",
    "Output should come as below: \n",
    " \n",
    "#Americans  play Baseball.\n",
    "#Americans  play Cricket. \n",
    "#Americans  watch Baseball.\n",
    "#Americans  watch Cricket. \n",
    "#Indians play Baseball. \n",
    "#Indians play Cricket. \n",
    "#Indians watch Baseball.\n",
    "#Indians watch Cricket. "
   ]
  },
  {
   "cell_type": "code",
   "execution_count": 6,
   "metadata": {},
   "outputs": [
    {
     "name": "stdout",
     "output_type": "stream",
     "text": [
      "Americans play Baseball\n",
      "Americans play Cricket\n",
      "Americans watch Baseball\n",
      "Americans watch Cricket\n",
      "Indians play Baseball\n",
      "Indians play Cricket\n",
      "Indians watch Baseball\n",
      "Indians watch Cricket\n"
     ]
    }
   ],
   "source": [
    "def sentence_generator(subjects=None, verbs=None, objects=None):\n",
    "    for sub in subjects:\n",
    "        for verb in verbs:\n",
    "            for obj in objects:\n",
    "                print(f\"{sub} {verb} {obj}\")\n",
    " \n",
    "SUBJECT=[\"Americans\",\"Indians\"]\n",
    "VERB=[\"play\",\"watch\"]\n",
    "OBJECT=[\"Baseball\",\"Cricket\"]\n",
    "\n",
    "sentence_generator(subjects=SUBJECT, verbs=VERB, objects=OBJECT)"
   ]
  },
  {
   "cell_type": "markdown",
   "metadata": {},
   "source": [
    "# 3. Write a function so that the columns of the output matrix are powers of the input vector.\n",
    "The order of the powers is determined by the increasing boolean argument. Specifically, when\n",
    "increasing is False, the i-th output column is the input vector raised element-wise to the power\n",
    "of N - i - 1.\n",
    "HINT: Such a matrix with a geometric progression in each row is named for Alexandre Theophile Vandermonde."
   ]
  },
  {
   "cell_type": "code",
   "execution_count": 11,
   "metadata": {},
   "outputs": [],
   "source": [
    "def getVanderMatrix(x, N=None, increasing=False):\n",
    "  \n",
    "    matrix = []\n",
    "    # generating powers for each row based on N value in decreasing order\n",
    "    # which is a default case\n",
    "    power = [(N-i-1) for N,i in zip([N]*N, range(N))]\n",
    "\n",
    "    # for increaing == True case\n",
    "    # reverse the pows array \n",
    "    if increasing:\n",
    "        power = power[::-1]\n",
    "\n",
    "    # iterate over x to generate and print each row\n",
    "    for ele in x:\n",
    "        row = [ele**pwr for pwr in power] \n",
    "        print(row)\n",
    "        matrix.append(row)\n",
    "    return matrix\n",
    "\n"
   ]
  },
  {
   "cell_type": "code",
   "execution_count": 9,
   "metadata": {},
   "outputs": [
    {
     "name": "stdout",
     "output_type": "stream",
     "text": [
      "[1, 1, 1]\n",
      "[4, 2, 1]\n",
      "[9, 3, 1]\n"
     ]
    }
   ],
   "source": [
    "inputVector = [1,2,3]\n",
    "no_of_ouput = 3\n",
    "result = getVanderMatrix(x=inputVector, N=no_of_ouput)"
   ]
  },
  {
   "cell_type": "code",
   "execution_count": 10,
   "metadata": {},
   "outputs": [
    {
     "name": "stdout",
     "output_type": "stream",
     "text": [
      "[1, 1, 1]\n",
      "[1, 2, 4]\n",
      "[1, 3, 9]\n"
     ]
    }
   ],
   "source": [
    "inputVector = [1,2,3]\n",
    "no_of_ouput = 3\n",
    "result = getVanderMatrix(x=inputVector, N=no_of_ouput, increasing=True)"
   ]
  },
  {
   "cell_type": "code",
   "execution_count": 14,
   "metadata": {},
   "outputs": [
    {
     "data": {
      "text/plain": [
       "array([[ 1,  1,  1],\n",
       "       [ 4,  2,  1],\n",
       "       [ 9,  3,  1],\n",
       "       [25,  5,  1]])"
      ]
     },
     "execution_count": 14,
     "metadata": {},
     "output_type": "execute_result"
    }
   ],
   "source": [
    "####################\n",
    "#using numpy\n",
    "\n",
    "\n",
    "import numpy as np\n",
    "x = np.array([1,2,3,5])\n",
    "N = 3\n",
    "np.vander(x, N)"
   ]
  },
  {
   "cell_type": "code",
   "execution_count": null,
   "metadata": {},
   "outputs": [],
   "source": []
  }
 ],
 "metadata": {
  "kernelspec": {
   "display_name": "Python 3",
   "language": "python",
   "name": "python3"
  },
  "language_info": {
   "codemirror_mode": {
    "name": "ipython",
    "version": 3
   },
   "file_extension": ".py",
   "mimetype": "text/x-python",
   "name": "python",
   "nbconvert_exporter": "python",
   "pygments_lexer": "ipython3",
   "version": "3.7.3"
  }
 },
 "nbformat": 4,
 "nbformat_minor": 2
}
