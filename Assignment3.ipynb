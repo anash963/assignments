{
 "cells": [
  {
   "cell_type": "markdown",
   "metadata": {},
   "source": [
    "# 1.1 Write a Python Program to implement your own myreduce() function which works exactly like Python's built-in function reduce()"
   ]
  },
  {
   "cell_type": "code",
   "execution_count": 14,
   "metadata": {},
   "outputs": [
    {
     "name": "stdout",
     "output_type": "stream",
     "text": [
      "addtion: 6 \n",
      "\n",
      "division: 0.6666666666666666 \n",
      "\n",
      "product: 6 \n",
      "\n",
      "lambda function to get exponential value: 8 \n",
      "\n"
     ]
    }
   ],
   "source": [
    "def addition(x,y):\n",
    "    return x+y\n",
    "\n",
    "def division(x,y):\n",
    "    return x/y\n",
    "\n",
    "def product(x, y):\n",
    "    return x * y\n",
    "\n",
    "def myreduce(func = None, array=None):\n",
    "    \n",
    "    # keep the first element of array in the cumulative\n",
    "    cumulative = array[0]\n",
    "    # iterating over the array to again and again to store the result in cumulative\n",
    "    for i in array[1:]:\n",
    "        cumulative = func(cumulative, i)\n",
    "    # return the accumulated result\n",
    "    return cumulative\n",
    "\n",
    "#input array\n",
    "arr = [2,1,3]\n",
    "\n",
    "add_result = myreduce(func = addition, array=arr)\n",
    "print(\"addtion:\", add_result , \"\\n\")\n",
    "\n",
    "\n",
    "\n",
    "div_result = myreduce(func = division, array=arr)\n",
    "print(\"division:\", div_result , \"\\n\")\n",
    "\n",
    "\n",
    "\n",
    "product_result = myreduce(func = product, array=arr)\n",
    "print(\"product:\", product_result , \"\\n\")\n",
    "\n",
    "\n",
    "\n",
    "lambda_function = myreduce( func = lambda x, y: x**y, array=arr)\n",
    "print(\"lambda function to get exponential value:\", lambda_function , \"\\n\")"
   ]
  },
  {
   "cell_type": "markdown",
   "metadata": {},
   "source": [
    "# 1.2 Write a Python program to implement your own myfilter() function which works exactly like Python's built-in function filter()"
   ]
  },
  {
   "cell_type": "code",
   "execution_count": 19,
   "metadata": {},
   "outputs": [
    {
     "name": "stdout",
     "output_type": "stream",
     "text": [
      "odd: [1, 3, 5, 7, 9]\n",
      "even: [2, 4, 6, 8, 0]\n"
     ]
    }
   ],
   "source": [
    "def odd_no(x):\n",
    "    return x%2!=0\n",
    "\n",
    "def even_no(x):\n",
    "    return x%2==0\n",
    "\n",
    "def myFilter(func = None, array = None):\n",
    "    \n",
    "    results = []\n",
    "\n",
    "    for i in array:\n",
    "        if func(i):\n",
    "            results.append(i)\n",
    "    return results\n",
    "\n",
    "arr = [1,2,3,4,5,6,7,8,9,0]\n",
    "odd_result = myFilter(func = odd_no, array = arr)\n",
    "print(\"odd:\", odd_result)\n",
    "\n",
    "even_result = myFilter(func = even_no, array = arr)\n",
    "print(\"even:\", even_result)\n"
   ]
  },
  {
   "cell_type": "markdown",
   "metadata": {},
   "source": [
    "# 2.Implement List comprehensions to produce the following lists.Write List comprehensions to produce the following Lists\n",
    "#['A', 'C', 'A', 'D', 'G', 'I', ’L’, ‘ D’] \n",
    "#['x', 'xx', 'xxx', 'xxxx', 'y', 'yy', 'yyy', 'yyyy', 'z', 'zz', 'zzz', 'zzzz']\n",
    "#['x', 'y', 'z', 'xx', 'yy', 'zz', 'xx', 'yy', 'zz', 'xxxx', 'yyyy', 'zzzz'] \n",
    "#[[2], [3], [4], [3], [4], [5], [4], [5], [6]] \n",
    "#[[2, 3, 4, 5], [3, 4, 5, 6], [4, 5, 6, 7], [5, 6, 7, 8]] \n",
    "#[(1, 1), (2, 1), (3, 1), (1, 2), (2, 2), (3, 2), (1, 3), (2, 3), (3, 3)]"
   ]
  },
  {
   "cell_type": "code",
   "execution_count": 24,
   "metadata": {},
   "outputs": [
    {
     "data": {
      "text/plain": [
       "['A', 'C', 'A', 'D', 'G', 'I', 'L', 'D']"
      ]
     },
     "execution_count": 24,
     "metadata": {},
     "output_type": "execute_result"
    }
   ],
   "source": [
    "# 1st sequence\n",
    "\n",
    "str1 = 'ACADGILD'\n",
    "[i for i in str1]"
   ]
  },
  {
   "cell_type": "code",
   "execution_count": 23,
   "metadata": {},
   "outputs": [
    {
     "data": {
      "text/plain": [
       "['x', 'xx', 'xxx', 'xxxx', 'y', 'yy', 'yyy', 'yyyy', 'z', 'zz', 'zzz', 'zzzz']"
      ]
     },
     "execution_count": 23,
     "metadata": {},
     "output_type": "execute_result"
    }
   ],
   "source": [
    "# 2nd sequence\n",
    "\n",
    "lst = list(\"xyz\")\n",
    "[letter*i for letter in lst for i in range(1,5) ]"
   ]
  },
  {
   "cell_type": "code",
   "execution_count": 22,
   "metadata": {},
   "outputs": [
    {
     "data": {
      "text/plain": [
       "['x', 'y', 'z', 'xx', 'yy', 'zz', 'xxx', 'yyy', 'zzz', 'xxxx', 'yyyy', 'zzzz']"
      ]
     },
     "execution_count": 22,
     "metadata": {},
     "output_type": "execute_result"
    }
   ],
   "source": [
    "# 3rd sequence \n",
    "\n",
    "lst = list(\"xyz\")\n",
    "\n",
    "[letter*i for i in range(1,5) for letter in lst]"
   ]
  },
  {
   "cell_type": "code",
   "execution_count": 25,
   "metadata": {},
   "outputs": [
    {
     "data": {
      "text/plain": [
       "[[2], [3], [4], [3], [4], [5], [4], [5], [6]]"
      ]
     },
     "execution_count": 25,
     "metadata": {},
     "output_type": "execute_result"
    }
   ],
   "source": [
    "# 4th sequence\n",
    "\n",
    "[[i+k] for i in range(2, 5) for k in range(3)]"
   ]
  },
  {
   "cell_type": "code",
   "execution_count": 26,
   "metadata": {},
   "outputs": [
    {
     "data": {
      "text/plain": [
       "[[2, 3, 4, 5], [3, 4, 5, 6], [4, 5, 6, 7], [5, 6, 7, 8]]"
      ]
     },
     "execution_count": 26,
     "metadata": {},
     "output_type": "execute_result"
    }
   ],
   "source": [
    "# 5th sequence\n",
    "\n",
    "[[i+k for i in range(2,6)] for k in range(4)]"
   ]
  },
  {
   "cell_type": "code",
   "execution_count": null,
   "metadata": {},
   "outputs": [],
   "source": []
  }
 ],
 "metadata": {
  "kernelspec": {
   "display_name": "Python 3",
   "language": "python",
   "name": "python3"
  },
  "language_info": {
   "codemirror_mode": {
    "name": "ipython",
    "version": 3
   },
   "file_extension": ".py",
   "mimetype": "text/x-python",
   "name": "python",
   "nbconvert_exporter": "python",
   "pygments_lexer": "ipython3",
   "version": "3.7.3"
  }
 },
 "nbformat": 4,
 "nbformat_minor": 2
}
