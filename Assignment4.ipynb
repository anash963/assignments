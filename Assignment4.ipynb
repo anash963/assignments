{
 "cells": [
  {
   "cell_type": "markdown",
   "metadata": {},
   "source": [
    "# 1.1 Write a Python Program(with class concepts) to find the area of the triangle using the below formula.\n",
    "area = (s(s-a)(s-b)(s-c)) ** 0.5\n",
    "#Function to take the length of the sides of triangle from user should be defined in the parent class and function to calculate the area should be defined in subclass."
   ]
  },
  {
   "cell_type": "code",
   "execution_count": 1,
   "metadata": {},
   "outputs": [
    {
     "name": "stdout",
     "output_type": "stream",
     "text": [
      "Area of the triangle = 24.0 unit²\n"
     ]
    }
   ],
   "source": [
    "#superclass\n",
    "class Dimensions:\n",
    "    def __init__(self, a, b, c):\n",
    "        self.a = a\n",
    "        self.b = b\n",
    "        self.c = c\n",
    "    \n",
    "    def semiperimeter(self):\n",
    "        s = (self.a+self.b+self.c)/2\n",
    "        return s\n",
    "    \n",
    "#subclass\n",
    "class AreaOfTriangle(Dimensions):\n",
    "    \n",
    "\n",
    "        def calculate_area(self):\n",
    "        # semi perimeter from Dimension parent class\n",
    "            s = super().semiperimeter()\n",
    "        # area\n",
    "            area = (s*(s-self.a)*(s-self.b)*(s-self.c)) ** 0.5\n",
    "            print(f\"Area of the triangle = {area} unit\\u00b2\")\n",
    "            return area\n",
    "\n",
    "area = AreaOfTriangle(6,10,8)\n",
    "_= area.calculate_area()\n",
    "        "
   ]
  },
  {
   "cell_type": "markdown",
   "metadata": {},
   "source": [
    "# 1.2 Write a function filter_long_words() that takes a list of words and an integer n and returns the list of words that are longer than n.¶"
   ]
  },
  {
   "cell_type": "code",
   "execution_count": 2,
   "metadata": {},
   "outputs": [
    {
     "data": {
      "text/plain": [
       "['Tom Hanks', 'Irrfan Khan', 'Bootabamma', 'De de pyaar de']"
      ]
     },
     "execution_count": 2,
     "metadata": {},
     "output_type": "execute_result"
    }
   ],
   "source": [
    "def  filter_long_words(list,n):\n",
    "    emptylist=[]\n",
    "    for i in inputList:\n",
    "        if len(i)>n:\n",
    "            emptylist.append(i)\n",
    "    return emptylist\n",
    "    \n",
    "inputList=[\"wow\",\"google\",\"Tom Hanks\",\"Irrfan Khan\", \"Bootabamma\", \"De de pyaar de\", \"I\", \"Love\", \"You\"]  \n",
    "\n",
    "filter_long_words(inputList,6)\n",
    "    "
   ]
  },
  {
   "cell_type": "markdown",
   "metadata": {},
   "source": [
    "# 2.1 Write a Python program using function concept that maps list of words into a list of integers representing the lengths of the corresponding words.\n",
    "Hint: ​If a list [ ab,cde,erty] is passed on to the python function output should come as [2,3,4] Here 2,3 and 4 are the lengths of the words in the list."
   ]
  },
  {
   "cell_type": "code",
   "execution_count": 3,
   "metadata": {},
   "outputs": [
    {
     "name": "stdout",
     "output_type": "stream",
     "text": [
      "[2, 3, 4]\n"
     ]
    }
   ],
   "source": [
    "def get_length_of_words(array=None):\n",
    "    return [len(word) for word in array]\n",
    "\n",
    "inputlist2 = [ \"ab\", \"cde\", \"erty\"]\n",
    "result = get_length_of_words(inputlist2)\n",
    "print(result)"
   ]
  },
  {
   "cell_type": "markdown",
   "metadata": {},
   "source": [
    "# 2.2 Write a Python function which takes a character (i.e. a string of length 1) and returns True if it is a vowel, False otherwise."
   ]
  },
  {
   "cell_type": "code",
   "execution_count": 5,
   "metadata": {},
   "outputs": [
    {
     "name": "stdout",
     "output_type": "stream",
     "text": [
      "True\n",
      "False\n"
     ]
    }
   ],
   "source": [
    "def is_vowel(x):\n",
    "    vowel = ['a', 'e', 'i', 'o', 'u']\n",
    "    if x in vowel:\n",
    "        return True\n",
    "    return False\n",
    "\n",
    "vowel_or_not = is_vowel(\"a\")\n",
    "print(vowel_or_not)\n",
    "\n",
    "vowel_or_not = is_vowel(\"m\")\n",
    "print(vowel_or_not)"
   ]
  },
  {
   "cell_type": "code",
   "execution_count": null,
   "metadata": {},
   "outputs": [],
   "source": []
  },
  {
   "cell_type": "code",
   "execution_count": null,
   "metadata": {},
   "outputs": [],
   "source": []
  }
 ],
 "metadata": {
  "kernelspec": {
   "display_name": "Python 3",
   "language": "python",
   "name": "python3"
  },
  "language_info": {
   "codemirror_mode": {
    "name": "ipython",
    "version": 3
   },
   "file_extension": ".py",
   "mimetype": "text/x-python",
   "name": "python",
   "nbconvert_exporter": "python",
   "pygments_lexer": "ipython3",
   "version": "3.7.3"
  }
 },
 "nbformat": 4,
 "nbformat_minor": 2
}
