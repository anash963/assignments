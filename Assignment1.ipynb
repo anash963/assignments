{
 "cells": [
  {
   "cell_type": "markdown",
   "metadata": {},
   "source": [
    "# Task1:"
   ]
  },
  {
   "cell_type": "code",
   "execution_count": null,
   "metadata": {},
   "outputs": [],
   "source": [
    "1)Installed Jupyter notebook.\n",
    "\n"
   ]
  },
  {
   "cell_type": "markdown",
   "metadata": {},
   "source": [
    "2)Write a program which will find all such numbers which are divisible by 7 but are not a multiple\n",
    "  of 5, between 2000 and 3200 (both included). The numbers obtained should be printed in a\n",
    "  comma-separated sequence on a single line."
   ]
  },
  {
   "cell_type": "code",
   "execution_count": 10,
   "metadata": {},
   "outputs": [
    {
     "name": "stdout",
     "output_type": "stream",
     "text": [
      "['2002', '2009', '2016', '2023', '2037', '2044', '2051', '2058', '2072', '2079', '2086', '2093', '2107', '2114', '2121', '2128', '2142', '2149', '2156', '2163', '2177', '2184', '2191', '2198', '2212', '2219', '2226', '2233', '2247', '2254', '2261', '2268', '2282', '2289', '2296', '2303', '2317', '2324', '2331', '2338', '2352', '2359', '2366', '2373', '2387', '2394', '2401', '2408', '2422', '2429', '2436', '2443', '2457', '2464', '2471', '2478', '2492', '2499', '2506', '2513', '2527', '2534', '2541', '2548', '2562', '2569', '2576', '2583', '2597', '2604', '2611', '2618', '2632', '2639', '2646', '2653', '2667', '2674', '2681', '2688', '2702', '2709', '2716', '2723', '2737', '2744', '2751', '2758', '2772', '2779', '2786', '2793', '2807', '2814', '2821', '2828', '2842', '2849', '2856', '2863', '2877', '2884', '2891', '2898', '2912', '2919', '2926', '2933', '2947', '2954', '2961', '2968', '2982', '2989', '2996', '3003', '3017', '3024', '3031', '3038', '3052', '3059', '3066', '3073', '3087', '3094', '3101', '3108', '3122', '3129', '3136', '3143', '3157', '3164', '3171', '3178', '3192', '3199']\n"
     ]
    }
   ],
   "source": [
    "\n",
    "def divfunc():\n",
    "    empty_array=[]\n",
    "\n",
    "    for x in range(2000, 3200):\n",
    "        if (x%7==0) and (x%5 !=0):\n",
    "            empty_array.append(str(x))\n",
    "    print(empty_array)\n",
    "    \n",
    "divfunc()"
   ]
  },
  {
   "cell_type": "markdown",
   "metadata": {},
   "source": [
    "3)Write a Python program to accept the user's first and last name and then getting them printed in\n",
    "  the the reverse order with a space between first name and last n\n"
   ]
  },
  {
   "cell_type": "code",
   "execution_count": 39,
   "metadata": {},
   "outputs": [
    {
     "name": "stdout",
     "output_type": "stream",
     "text": [
      "enter your nameyolo bana\n",
      "anab oloy\n",
      "anab oloy\n"
     ]
    }
   ],
   "source": [
    "\n",
    "def reverse_name(name):\n",
    "    name2=\"\"\n",
    "    for c in name:\n",
    "        name2 = c+ name2\n",
    "    return name2\n",
    "\n",
    "def reverse_using_split(name):\n",
    "    name2=name[::-1]\n",
    "    return name2\n",
    "\n",
    "name= input(\"enter your name\")\n",
    "print(reverse_name(name))\n",
    "print(reverse_using_split(name))"
   ]
  },
  {
   "cell_type": "markdown",
   "metadata": {},
   "source": [
    "4)Write a Python program to find the volume of a sphere with diameter 12 cm.\n",
    "  Formula: V=4/3 * π * r^3"
   ]
  },
  {
   "cell_type": "code",
   "execution_count": 81,
   "metadata": {},
   "outputs": [
    {
     "name": "stdout",
     "output_type": "stream",
     "text": [
      "7238.229473870883\n",
      "None\n"
     ]
    }
   ],
   "source": [
    "    \n",
    "def volume_sphere(n):\n",
    "     n1=int(n)\n",
    "     square=n1**3\n",
    "     import math\n",
    "     total=(4.0/3)*(square)*(math.pi)\n",
    "     print(total)\n",
    "\n",
    "print(volume_sphere(12))"
   ]
  },
  {
   "cell_type": "markdown",
   "metadata": {},
   "source": [
    "# Task 2:"
   ]
  },
  {
   "cell_type": "markdown",
   "metadata": {},
   "source": [
    "5)Write a program which accepts a sequence of comma-separated numbers from console and\n",
    "  generate a list."
   ]
  },
  {
   "cell_type": "code",
   "execution_count": 3,
   "metadata": {},
   "outputs": [
    {
     "name": "stdout",
     "output_type": "stream",
     "text": [
      "Input some comma separated numbers : 3,5,99,89,77,86,89,88,63,55,44\n",
      "List :  ['3', '5', '99', '89', '77', '86', '89', '88', '63', '55', '44']\n"
     ]
    }
   ],
   "source": [
    "\n",
    "numbers = input(\"Input some comma separated numbers : \")\n",
    "list = numbers.split(\",\")\n",
    "print('List : ',list)"
   ]
  },
  {
   "cell_type": "markdown",
   "metadata": {},
   "source": [
    "6)Print the following pattern:\n",
    "\n",
    "* \n",
    "* * \n",
    "* * * \n",
    "* * * * \n",
    "* * * * * \n",
    "* * * * \n",
    "* * * \n",
    "* * \n",
    "* "
   ]
  },
  {
   "cell_type": "code",
   "execution_count": 4,
   "metadata": {},
   "outputs": [
    {
     "name": "stdout",
     "output_type": "stream",
     "text": [
      "* \n",
      "* * \n",
      "* * * \n",
      "* * * * \n",
      "* * * * * \n",
      "* * * * \n",
      "* * * \n",
      "* * \n",
      "* \n"
     ]
    }
   ],
   "source": [
    "\n",
    "def func_star__left_triangle(n):\n",
    "    \n",
    "    for i in range(1,n+1):\n",
    "        print(\"\"*(n-i)+ '* '*(i))\n",
    "        \n",
    "    for i in range(n-1,0,-1):\n",
    "        print(\"\"*(n-i)+ '* '*(i))\n",
    "        \n",
    "func_star__left_triangle(5)"
   ]
  },
  {
   "cell_type": "markdown",
   "metadata": {},
   "source": [
    "7)Write a Python program to reverse a word after accepting the input from the user.\n",
    "  Sample Output:\n",
    "  Input word: AcadGild\n",
    "  Output: dilGdacA"
   ]
  },
  {
   "cell_type": "code",
   "execution_count": 7,
   "metadata": {},
   "outputs": [
    {
     "name": "stdout",
     "output_type": "stream",
     "text": [
      "enter your name: michael lobo\n",
      "obol leahcim\n"
     ]
    }
   ],
   "source": [
    "\n",
    "def reverse_input(input):\n",
    "    input2=\"\"\n",
    "    for c in name:\n",
    "        input2 = c+ input2\n",
    "    return input2\n",
    "\n",
    "name= input(\"enter your name: \")\n",
    "print(reverse_input(input))"
   ]
  },
  {
   "cell_type": "code",
   "execution_count": null,
   "metadata": {},
   "outputs": [],
   "source": [
    "8)Write a Python Program to print the given string in the format specified in the ​ sample output.\n",
    "  WE, THE PEOPLE OF INDIA, having solemnly resolved to constitute India into a\n",
    "  SOVEREIGN, SOCIALIST, SECULAR, DEMOCRATIC REPUBLIC and to secure to all\n",
    "  its citizens\n",
    "\n",
    "  Sample Output:\n",
    "  WE, THE PEOPLE OF INDIA,\n",
    "    having solemnly resolved to constitute India into a SOVEREIGN, !\n",
    "        SOCIALIST, SECULAR, DEMOCRATIC REPUBLIC\n",
    "    and to secure to all its citizens"
   ]
  },
  {
   "cell_type": "code",
   "execution_count": 16,
   "metadata": {},
   "outputs": [
    {
     "name": "stdout",
     "output_type": "stream",
     "text": [
      "WE, THE PEOPLE OF INDIA \n",
      " having solemnly resolved to constitute India into a SOVEREIGN, !  \n",
      "     SOCIALIST, SECULAR, DEMOCRATIC REPUBLIC \n",
      " and to secure to all its citizens\n"
     ]
    }
   ],
   "source": [
    "\n",
    "print(\"WE, THE PEOPLE OF INDIA\", \"\\n\" \" having solemnly resolved to constitute India into a SOVEREIGN, ! \", \"\\n\", \"    SOCIALIST, SECULAR, DEMOCRATIC REPUBLIC\", \"\\n\", \"and to secure to all its citizens\")\n"
   ]
  },
  {
   "cell_type": "code",
   "execution_count": null,
   "metadata": {},
   "outputs": [],
   "source": []
  }
 ],
 "metadata": {
  "kernelspec": {
   "display_name": "Python 3",
   "language": "python",
   "name": "python3"
  },
  "language_info": {
   "codemirror_mode": {
    "name": "ipython",
    "version": 3
   },
   "file_extension": ".py",
   "mimetype": "text/x-python",
   "name": "python",
   "nbconvert_exporter": "python",
   "pygments_lexer": "ipython3",
   "version": "3.8.2"
  }
 },
 "nbformat": 4,
 "nbformat_minor": 4
}
